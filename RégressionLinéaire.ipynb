{
 "cells": [
  {
   "cell_type": "code",
   "execution_count": 1,
   "id": "6fd29073",
   "metadata": {},
   "outputs": [],
   "source": [
    "import numpy as np\n",
    "from sklearn.datasets import make_regression\n",
    "import matplotlib.pyplot as plt"
   ]
  },
  {
   "cell_type": "code",
   "execution_count": 2,
   "id": "7e613312",
   "metadata": {},
   "outputs": [
    {
     "name": "stdout",
     "output_type": "stream",
     "text": [
      "(100, 1)\n",
      "(100,)\n"
     ]
    },
    {
     "data": {
      "image/png": "[encoded data removed]",
      "text/plain": [
       "<Figure size 432x288 with 1 Axes>"
      ]
     },
     "metadata": {
      "needs_background": "light"
     },
     "output_type": "display_data"
    }
   ],
   "source": [
    "x, y = make_regression(n_samples=100, n_features=1, noise=10)\n",
    "plt.scatter(x, y) # afficher les résultats. X en abscisse et y en ordonnée\n",
    "plt.title(\"regression linéaire\")\n",
    "plt.xlabel(\"x\")\n",
    "plt.ylabel(\"y\")\n",
    "print(x.shape)\n",
    "print(y.shape)\n",
    "# redimensionner y\n",
    "y = y.reshape(y.shape[0], 1)"
   ]
  },
  {
   "cell_type": "code",
   "execution_count": 3,
   "id": "051fa8d2",
   "metadata": {},
   "outputs": [
    {
     "data": {
      "text/plain": [
       "array([[-0.58037733,  1.        ],\n",
       "       [ 0.56225914,  1.        ],\n",
       "       [-0.25045696,  1.        ],\n",
       "       [ 1.75441966,  1.        ],\n",
       "       [ 0.51566917,  1.        ],\n",
       "       [-1.85443498,  1.        ],\n",
       "       [ 1.63602767,  1.        ],\n",
       "       [-1.51284053,  1.        ],\n",
       "       [-1.09366499,  1.        ],\n",
       "       [-0.25072776,  1.        ],\n",
       "       [-0.39222951,  1.        ],\n",
       "       [-0.72732699,  1.        ],\n",
       "       [ 0.4889701 ,  1.        ],\n",
       "       [-0.21110648,  1.        ],\n",
       "       [ 0.07229718,  1.        ],\n",
       "       [-0.07317569,  1.        ],\n",
       "       [-0.54637666,  1.        ],\n",
       "       [-0.86980472,  1.        ],\n",
       "       [ 1.8180482 ,  1.        ],\n",
       "       [-0.25905377,  1.        ],\n",
       "       [-0.49700637,  1.        ],\n",
       "       [-1.22239214,  1.        ],\n",
       "       [ 1.07306766,  1.        ],\n",
       "       [-0.35176112,  1.        ],\n",
       "       [ 1.95281078,  1.        ],\n",
       "       [ 1.5734404 ,  1.        ],\n",
       "       [ 0.15795754,  1.        ],\n",
       "       [ 0.87700225,  1.        ],\n",
       "       [-2.42902149,  1.        ],\n",
       "       [-0.13044882,  1.        ],\n",
       "       [-0.3559701 ,  1.        ],\n",
       "       [-1.74130423,  1.        ],\n",
       "       [ 0.52554299,  1.        ],\n",
       "       [ 0.57271897,  1.        ],\n",
       "       [-0.14386665,  1.        ],\n",
       "       [-0.27471457,  1.        ],\n",
       "       [-0.67680988,  1.        ],\n",
       "       [ 0.56680102,  1.        ],\n",
       "       [-0.4112173 ,  1.        ],\n",
       "       [-1.41031037,  1.        ],\n",
       "       [ 0.05200152,  1.        ],\n",
       "       [-0.72221045,  1.        ],\n",
       "       [-0.97112238,  1.        ],\n",
       "       [-0.75371825,  1.        ],\n",
       "       [-2.43306888,  1.        ],\n",
       "       [ 0.52097091,  1.        ],\n",
       "       [ 0.04032781,  1.        ],\n",
       "       [ 0.9459463 ,  1.        ],\n",
       "       [ 0.40455483,  1.        ],\n",
       "       [-0.47128313,  1.        ],\n",
       "       [ 1.37649599,  1.        ],\n",
       "       [-0.28180852,  1.        ],\n",
       "       [ 0.13769286,  1.        ],\n",
       "       [ 0.25491758,  1.        ],\n",
       "       [ 0.94668786,  1.        ],\n",
       "       [ 0.78040844,  1.        ],\n",
       "       [-0.78329576,  1.        ],\n",
       "       [-0.6986089 ,  1.        ],\n",
       "       [-0.86142395,  1.        ],\n",
       "       [-0.51045777,  1.        ],\n",
       "       [ 1.27767225,  1.        ],\n",
       "       [-1.04738961,  1.        ],\n",
       "       [ 2.7446644 ,  1.        ],\n",
       "       [ 0.06520772,  1.        ],\n",
       "       [ 0.88915891,  1.        ],\n",
       "       [-1.56303773,  1.        ],\n",
       "       [-0.98524528,  1.        ],\n",
       "       [ 0.0581118 ,  1.        ],\n",
       "       [ 0.40754544,  1.        ],\n",
       "       [-0.26219095,  1.        ],\n",
       "       [ 0.28132487,  1.        ],\n",
       "       [ 1.59143039,  1.        ],\n",
       "       [-0.36181303,  1.        ],\n",
       "       [ 1.30845306,  1.        ],\n",
       "       [ 0.39176275,  1.        ],\n",
       "       [-0.39318785,  1.        ],\n",
       "       [-1.11575885,  1.        ],\n",
       "       [ 0.17967414,  1.        ],\n",
       "       [-0.62954768,  1.        ],\n",
       "       [-0.60310356,  1.        ],\n",
       "       [ 2.04020143,  1.        ],\n",
       "       [-1.36925823,  1.        ],\n",
       "       [ 0.29844316,  1.        ],\n",
       "       [ 0.95603406,  1.        ],\n",
       "       [ 0.19154365,  1.        ],\n",
       "       [ 0.060354  ,  1.        ],\n",
       "       [ 1.78367401,  1.        ],\n",
       "       [-0.19982922,  1.        ],\n",
       "       [ 1.24023008,  1.        ],\n",
       "       [-0.05057779,  1.        ],\n",
       "       [-0.21819425,  1.        ],\n",
       "       [ 1.59210712,  1.        ],\n",
       "       [ 0.47337936,  1.        ],\n",
       "       [ 1.24715498,  1.        ],\n",
       "       [ 0.95595633,  1.        ],\n",
       "       [ 0.27082335,  1.        ],\n",
       "       [-1.75311623,  1.        ],\n",
       "       [ 1.38454417,  1.        ],\n",
       "       [ 1.23049851,  1.        ],\n",
       "       [-0.4193903 ,  1.        ]])"
      ]
     },
     "execution_count": 3,
     "metadata": {},
     "output_type": "execute_result"
    }
   ],
   "source": [
    "#matrice X \n",
    "X = np.hstack((x, np.ones(x.shape)))\n",
    "X"
   ]
  },
  {
   "cell_type": "code",
   "execution_count": 4,
   "id": "7f7ed67a",
   "metadata": {},
   "outputs": [
    {
     "data": {
      "text/plain": [
       "array([[ 1.13145589],\n",
       "       [-0.35693148]])"
      ]
     },
     "execution_count": 4,
     "metadata": {},
     "output_type": "execute_result"
    }
   ],
   "source": [
    "theta = np.random.randn(2, 1) #generer des nbr aléatoire\n",
    "theta"
   ]
  },
  {
   "cell_type": "code",
   "execution_count": 5,
   "id": "0d4f7072",
   "metadata": {},
   "outputs": [],
   "source": [
    "def model(X, theta):\n",
    "    return X.dot(theta)"
   ]
  },
  {
   "cell_type": "code",
   "execution_count": 6,
   "id": "5174780f",
   "metadata": {},
   "outputs": [
    {
     "data": {
      "text/plain": [
       "Text(0, 0.5, 'y')"
      ]
     },
     "execution_count": 6,
     "metadata": {},
     "output_type": "execute_result"
    },
    {
     "data": {
      "image/png": "[encoded data removed]",
      "text/plain": [
       "<Figure size 432x288 with 1 Axes>"
      ]
     },
     "metadata": {
      "needs_background": "light"
     },
     "output_type": "display_data"
    }
   ],
   "source": [
    "plt.scatter(x, y)\n",
    "plt.plot(x, model(X, theta), c='r')\n",
    "plt.title(\"regression linéaire\")\n",
    "plt.xlabel(\"x\")\n",
    "plt.ylabel(\"y\")"
   ]
  },
  {
   "cell_type": "code",
   "execution_count": 7,
   "id": "f4c85b56",
   "metadata": {},
   "outputs": [],
   "source": [
    "def cost_function(X, y, theta):\n",
    "    m = len(y) \n",
    "    return 1/(2*m) * np.sum((model(X, theta) - y)**2)"
   ]
  },
  {
   "cell_type": "code",
   "execution_count": 8,
   "id": "a6dd063e",
   "metadata": {},
   "outputs": [
    {
     "data": {
      "text/plain": [
       "91.59686095798907"
      ]
     },
     "execution_count": 8,
     "metadata": {},
     "output_type": "execute_result"
    }
   ],
   "source": [
    "cost_function(X, y, theta)"
   ]
  },
  {
   "cell_type": "code",
   "execution_count": 9,
   "id": "a8023345",
   "metadata": {},
   "outputs": [],
   "source": [
    "def grad(X, y, theta):\n",
    "    m = len(y)\n",
    "    return 1/m * X.T.dot(model(X, theta) - y)"
   ]
  },
  {
   "cell_type": "code",
   "execution_count": 10,
   "id": "878e845f",
   "metadata": {},
   "outputs": [],
   "source": [
    "def gradient_descent(X, y, theta, learning_rate, n_iterations):\n",
    "    \n",
    "    cost_history = np.zeros(n_iterations) # création d'un tableau de stockage pour enregistrer l'évolution du Cout du modele\n",
    "    \n",
    "    for i in range(0, n_iterations):\n",
    "        theta = theta - learning_rate * grad(X, y, theta) # mise a jour du parametre theta (formule du gradient descent)\n",
    "        cost_history[i] = cost_function(X, y, theta) # on enregistre la valeur du Cout au tour i dans cost_history[i]\n",
    "        \n",
    "    return theta, cost_history"
   ]
  },
  {
   "cell_type": "code",
   "execution_count": 11,
   "id": "28597e90",
   "metadata": {},
   "outputs": [],
   "source": [
    "n_iterations = 1000\n",
    "learning_rate = 0.01\n",
    "\n",
    "\n",
    "theta_final, cost_history = gradient_descent(X, y, theta, learning_rate, n_iterations)"
   ]
  },
  {
   "cell_type": "code",
   "execution_count": 12,
   "id": "e3eabbd9",
   "metadata": {},
   "outputs": [
    {
     "data": {
      "text/plain": [
       "array([[10.36139775],\n",
       "       [-0.56686252]])"
      ]
     },
     "execution_count": 12,
     "metadata": {},
     "output_type": "execute_result"
    }
   ],
   "source": [
    "theta_final # voici les parametres du modele une fois que la machine a été entrainée"
   ]
  },
  {
   "cell_type": "code",
   "execution_count": 13,
   "id": "89a0355d",
   "metadata": {},
   "outputs": [
    {
     "data": {
      "text/plain": [
       "Text(0, 0.5, 'y')"
      ]
     },
     "execution_count": 13,
     "metadata": {},
     "output_type": "execute_result"
    },
    {
     "data": {
      "image/png": "[encoded data removed]",
      "text/plain": [
       "<Figure size 432x288 with 1 Axes>"
      ]
     },
     "metadata": {
      "needs_background": "light"
     },
     "output_type": "display_data"
    }
   ],
   "source": [
    "# création d'un vecteur prédictions qui contient les prédictions de notre modele final\n",
    "predictions = model(X, theta_final)\n",
    "\n",
    "# Affiche les résultats de prédictions (en rouge) par rapport a notre Dataset (en bleu)\n",
    "plt.scatter(x, y)\n",
    "plt.plot(x, predictions, c='r')\n",
    "plt.title(\"regression linéaire\")\n",
    "plt.xlabel(\"x\")\n",
    "plt.ylabel(\"y\")"
   ]
  },
  {
   "cell_type": "code",
   "execution_count": 14,
   "id": "802eac08",
   "metadata": {},
   "outputs": [
    {
     "data": {
      "text/plain": [
       "Text(0, 0.5, 'y')"
      ]
     },
     "execution_count": 14,
     "metadata": {},
     "output_type": "execute_result"
    },
    {
     "data": {
      "image/png": "[encoded data removed]",
      "text/plain": [
       "<Figure size 432x288 with 1 Axes>"
      ]
     },
     "metadata": {
      "needs_background": "light"
     },
     "output_type": "display_data"
    }
   ],
   "source": [
    "plt.plot(range(n_iterations), cost_history)\n",
    "plt.title(\"regression linéaire\")\n",
    "plt.xlabel(\"x\")\n",
    "plt.ylabel(\"y\")"
   ]
  },
  {
   "cell_type": "code",
   "execution_count": 15,
   "id": "109cc1e2",
   "metadata": {},
   "outputs": [
    {
     "data": {
      "text/plain": [
       "0.5335106943951861"
      ]
     },
     "execution_count": 15,
     "metadata": {},
     "output_type": "execute_result"
    }
   ],
   "source": [
    "def coef_determination(y, pred):\n",
    "    u = ((y - pred)**2).sum()\n",
    "    v = ((y - y.mean())**2).sum()\n",
    "    return 1 - u/v\n",
    "coef_determination(y, predictions)\n"
   ]
  },
  {
   "cell_type": "code",
   "execution_count": null,
   "id": "0df9a1c5",
   "metadata": {},
   "outputs": [],
   "source": []
  }
 ],
 "metadata": {
  "kernelspec": {
   "display_name": "Python 3 (ipykernel)",
   "language": "python",
   "name": "python3"
  },
  "language_info": {
   "codemirror_mode": {
    "name": "ipython",
    "version": 3
   },
   "file_extension": ".py",
   "mimetype": "text/x-python",
   "name": "python",
   "nbconvert_exporter": "python",
   "pygments_lexer": "ipython3",
   "version": "3.9.12"
  }
 },
 "nbformat": 4,
 "nbformat_minor": 5
}
